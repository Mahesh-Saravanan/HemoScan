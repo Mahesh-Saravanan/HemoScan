{
 "cells": [
  {
   "cell_type": "markdown",
   "id": "127d9ce9",
   "metadata": {},
   "source": [
    "## Dependencies"
   ]
  },
  {
   "cell_type": "code",
   "execution_count": 1,
   "id": "8383f3e5",
   "metadata": {},
   "outputs": [],
   "source": [
    "import os\n",
    "import json\n",
    "from PIL import Image\n",
    "import matplotlib.pyplot as plt\n",
    "import numpy as np\n",
    "\n",
    "\n",
    "import torch\n",
    "from torch.utils.data import DataLoader,random_split\n",
    "from torchvision import transforms\n",
    "\n",
    "\n",
    "import importlib\n",
    "import dataloader\n",
    "import config\n",
    "import model\n",
    "import train\n",
    "\n",
    "\n",
    "importlib.reload(dataloader)\n",
    "importlib.reload(config)\n",
    "importlib.reload(model)\n",
    "importlib.reload(train)\n",
    "\n",
    "from train import train,validate,inference\n",
    "from dataloader import CustomDataloader,train_test_split\n",
    "from config import Config\n",
    "from model import ModelV1,initialize_weights\n",
    "\n",
    "\n",
    "config = Config()"
   ]
  },
  {
   "cell_type": "markdown",
   "id": "41924412",
   "metadata": {},
   "source": [
    "## Prepare Dataset"
   ]
  },
  {
   "cell_type": "code",
   "execution_count": 2,
   "id": "54932c24",
   "metadata": {},
   "outputs": [],
   "source": [
    "\n",
    "dataset = CustomDataloader(config.data_dir,config.transform)\n",
    "train_dataset, test_dataset = train_test_split(dataset, config.test_split)\n",
    "\n",
    "train_loader = DataLoader(train_dataset, batch_size=config.batch_size, shuffle=config.shuffle)\n",
    "test_loader = DataLoader(test_dataset, batch_size=config.batch_size, shuffle=config.shuffle)\n"
   ]
  },
  {
   "cell_type": "markdown",
   "id": "64f79151",
   "metadata": {},
   "source": [
    "## Create Model"
   ]
  },
  {
   "cell_type": "code",
   "execution_count": null,
   "id": "34b5235b",
   "metadata": {},
   "outputs": [],
   "source": [
    "model_obj = ModelV1(freeze_backbone=True, unfreeze_from_layer='layer4')\n",
    "if config.load_model:\n",
    "    model_obj.load_state_dict(torch.load(config.model_path))\n",
    "else:\n",
    "    initialize_weights(model_obj)"
   ]
  },
  {
   "cell_type": "markdown",
   "id": "273108f4",
   "metadata": {},
   "source": [
    "## Train"
   ]
  },
  {
   "cell_type": "code",
   "execution_count": 7,
   "id": "87d402bc",
   "metadata": {},
   "outputs": [
    {
     "name": "stdout",
     "output_type": "stream",
     "text": [
      "Training on Device: mps\n",
      "\n",
      "[Train] Epoch [1/20], Batch [208/208], Loss: 0.3536  ------> Epoch [1/20] Completed. Avg Loss: 1.0134\n",
      "[Train] Epoch [2/20], Batch [208/208], Loss: 1.0765  ------> Epoch [2/20] Completed. Avg Loss: 1.0133\n",
      "[Train] Epoch [3/20], Batch [208/208], Loss: 3.0510  ------> Epoch [3/20] Completed. Avg Loss: 1.0133\n",
      "[Train] Epoch [4/20], Batch [208/208], Loss: 1.9337  ------> Epoch [4/20] Completed. Avg Loss: 1.0133\n",
      "[Train] Epoch [5/20], Batch [208/208], Loss: 0.8121  ------> Epoch [5/20] Completed. Avg Loss: 1.0133\n",
      "[Train] Epoch [6/20], Batch [208/208], Loss: 0.3881  ------> Epoch [6/20] Completed. Avg Loss: 1.0134\n",
      "[Train] Epoch [7/20], Batch [208/208], Loss: 0.3517  ------> Epoch [7/20] Completed. Avg Loss: 1.0133\n",
      "[Train] Epoch [8/20], Batch [208/208], Loss: 1.9603  ------> Epoch [8/20] Completed. Avg Loss: 1.0133\n",
      "[Train] Epoch [9/20], Batch [208/208], Loss: 0.4368  ------> Epoch [9/20] Completed. Avg Loss: 1.0134\n",
      "[Train] Epoch [10/20], Batch [208/208], Loss: 0.5748  ------> Epoch [10/20] Completed. Avg Loss: 1.0133\n",
      "[Train] Epoch [11/20], Batch [208/208], Loss: 0.4224  ------> Epoch [11/20] Completed. Avg Loss: 1.0133\n",
      "[Train] Epoch [12/20], Batch [208/208], Loss: 0.4468  ------> Epoch [12/20] Completed. Avg Loss: 1.0133\n",
      "[Train] Epoch [13/20], Batch [208/208], Loss: 0.7926  ------> Epoch [13/20] Completed. Avg Loss: 1.0134\n",
      "[Train] Epoch [14/20], Batch [208/208], Loss: 0.3520  ------> Epoch [14/20] Completed. Avg Loss: 1.0133\n",
      "[Train] Epoch [15/20], Batch [208/208], Loss: 0.1090  ------> Epoch [15/20] Completed. Avg Loss: 1.0133\n",
      "[Train] Epoch [16/20], Batch [208/208], Loss: 1.3962  ------> Epoch [16/20] Completed. Avg Loss: 1.0133\n",
      "[Train] Epoch [17/20], Batch [208/208], Loss: 1.0976  ------> Epoch [17/20] Completed. Avg Loss: 1.0133\n",
      "[Train] Epoch [18/20], Batch [208/208], Loss: 0.5223  ------> Epoch [18/20] Completed. Avg Loss: 1.0133\n",
      "[Train] Epoch [19/20], Batch [208/208], Loss: 0.3428  ------> Epoch [19/20] Completed. Avg Loss: 1.0133\n",
      "[Train] Epoch [20/20], Batch [208/208], Loss: 0.6422  ------> Epoch [20/20] Completed. Avg Loss: 1.0133\n"
     ]
    }
   ],
   "source": [
    "train(model = model_obj,dataloader = train_loader,config = config)"
   ]
  },
  {
   "cell_type": "markdown",
   "id": "3f1e228c",
   "metadata": {},
   "source": [
    "## Validate Model"
   ]
  },
  {
   "cell_type": "code",
   "execution_count": 5,
   "id": "9402f4ff",
   "metadata": {},
   "outputs": [
    {
     "name": "stdout",
     "output_type": "stream",
     "text": [
      "[Validation] Batch [23/23] - Batch Loss: 0.5514\n",
      "[Validation] Completed. Avg Loss: 0.8801\n",
      "\n",
      "[Validation Metrics]\n",
      "MSE: 0.8801\n",
      "RMSE: 0.9381\n",
      "MAE: 0.7086\n",
      "R2: -0.0013\n",
      "MAPE (%): 100.1847\n"
     ]
    }
   ],
   "source": [
    "_ = validate(model = model_obj, dataloader = test_loader, config = Config())"
   ]
  },
  {
   "cell_type": "markdown",
   "id": "4a7ca781",
   "metadata": {},
   "source": [
    "## inference"
   ]
  },
  {
   "cell_type": "code",
   "execution_count": 6,
   "id": "13d51827",
   "metadata": {},
   "outputs": [
    {
     "name": "stdout",
     "output_type": "stream",
     "text": [
      "Predicted HB: 12.04       | Actual HB: 13.20\n",
      "Predicted HB: 12.04       | Actual HB: 13.00\n",
      "Predicted HB: 12.04       | Actual HB: 13.20\n",
      "Predicted HB: 12.04       | Actual HB: 11.60\n",
      "Predicted HB: 12.04       | Actual HB: 11.30\n",
      "Predicted HB: 12.04       | Actual HB: 10.70\n",
      "Predicted HB: 12.04       | Actual HB: 12.20\n",
      "Predicted HB: 12.04       | Actual HB: 12.30\n",
      "Predicted HB: 12.04       | Actual HB: 12.80\n"
     ]
    }
   ],
   "source": [
    "for i in range(1,10):\n",
    "    paths = f\"/Users/maheshsaravanan/Documents/HemoScan/Dataset/{i:04d}\"\n",
    "    inference(model = model_obj, path = paths, mean = dataset.hb_mean, std = dataset.hb_std)"
   ]
  }
 ],
 "metadata": {
  "kernelspec": {
   "display_name": "Hemoscan",
   "language": "python",
   "name": "python3"
  },
  "language_info": {
   "codemirror_mode": {
    "name": "ipython",
    "version": 3
   },
   "file_extension": ".py",
   "mimetype": "text/x-python",
   "name": "python",
   "nbconvert_exporter": "python",
   "pygments_lexer": "ipython3",
   "version": "3.10.16"
  }
 },
 "nbformat": 4,
 "nbformat_minor": 5
}
