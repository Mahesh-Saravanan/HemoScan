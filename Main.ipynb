{
 "cells": [
  {
   "cell_type": "markdown",
   "id": "127d9ce9",
   "metadata": {},
   "source": [
    "## Dependencies"
   ]
  },
  {
   "cell_type": "code",
   "execution_count": 32,
   "id": "8383f3e5",
   "metadata": {},
   "outputs": [],
   "source": [
    "import os\n",
    "import json\n",
    "from PIL import Image\n",
    "import matplotlib.pyplot as plt\n",
    "import numpy as np\n",
    "\n",
    "\n",
    "import torch\n",
    "from torch.utils.data import DataLoader,random_split\n",
    "from torchvision import transforms\n",
    "\n",
    "\n",
    "import importlib\n",
    "import dataloader\n",
    "import config\n",
    "import model\n",
    "import train\n",
    "\n",
    "\n",
    "importlib.reload(dataloader)\n",
    "importlib.reload(config)\n",
    "importlib.reload(model)\n",
    "importlib.reload(train)\n",
    "\n",
    "from train import train,validate,inference\n",
    "from dataloader import CustomDataloader,train_test_split\n",
    "from config import Config\n",
    "from model import ModelV1\n",
    "\n",
    "\n",
    "config = Config()"
   ]
  },
  {
   "cell_type": "markdown",
   "id": "41924412",
   "metadata": {},
   "source": [
    "## Prepare Dataset"
   ]
  },
  {
   "cell_type": "code",
   "execution_count": 2,
   "id": "54932c24",
   "metadata": {},
   "outputs": [],
   "source": [
    "\n",
    "dataset = CustomDataloader(config.data_dir,config.transform)\n",
    "train_dataset, test_dataset = train_test_split(dataset, config.test_split)\n",
    "\n",
    "train_loader = DataLoader(train_dataset, batch_size=config.batch_size, shuffle=config.shuffle)\n",
    "test_loader = DataLoader(test_dataset, batch_size=config.batch_size, shuffle=config.shuffle)\n"
   ]
  },
  {
   "cell_type": "markdown",
   "id": "64f79151",
   "metadata": {},
   "source": [
    "## Create Model"
   ]
  },
  {
   "cell_type": "code",
   "execution_count": 3,
   "id": "34b5235b",
   "metadata": {},
   "outputs": [],
   "source": [
    "model_obj = ModelV1()\n",
    "if config.load_model:model_obj.load_state_dict(torch.load(config.model_path))\n",
    "_ = model_obj.to(config.device)"
   ]
  },
  {
   "cell_type": "markdown",
   "id": "273108f4",
   "metadata": {},
   "source": [
    "## Train"
   ]
  },
  {
   "cell_type": "code",
   "execution_count": 4,
   "id": "87d402bc",
   "metadata": {},
   "outputs": [
    {
     "name": "stdout",
     "output_type": "stream",
     "text": [
      "[Train] Epoch [1/1], Batch [47/47], Loss: 0.0788  ------> Epoch [1/1] Completed. Avg Loss: 1.1627\n"
     ]
    }
   ],
   "source": [
    "train(model = model_obj,dataloader = train_loader,config = config)"
   ]
  },
  {
   "cell_type": "markdown",
   "id": "3f1e228c",
   "metadata": {},
   "source": [
    "## Validate Model"
   ]
  },
  {
   "cell_type": "code",
   "execution_count": 5,
   "id": "9402f4ff",
   "metadata": {},
   "outputs": [
    {
     "name": "stdout",
     "output_type": "stream",
     "text": [
      "[Validation] Batch [185/185] - Batch Loss: 0.0015\n",
      "[Validation] Completed. Avg Loss: 0.9449\n",
      "\n",
      "[Validation Metrics]\n",
      "MSE: 0.9475\n",
      "RMSE: 0.9734\n",
      "MAE: 0.7754\n",
      "R2: 0.0141\n",
      "MAPE (%): 134.9946\n"
     ]
    }
   ],
   "source": [
    "_ = validate(model = model_obj, dataloader = test_loader, config = Config())"
   ]
  },
  {
   "cell_type": "markdown",
   "id": "4a7ca781",
   "metadata": {},
   "source": [
    "## inference"
   ]
  },
  {
   "cell_type": "code",
   "execution_count": 34,
   "id": "13d51827",
   "metadata": {},
   "outputs": [
    {
     "name": "stdout",
     "output_type": "stream",
     "text": [
      "Predicted HB: 11.43       | Actual HB: 13.20\n",
      "Predicted HB: 11.20       | Actual HB: 13.00\n",
      "Predicted HB: 11.61       | Actual HB: 13.20\n",
      "Predicted HB: 11.52       | Actual HB: 11.60\n",
      "Predicted HB: 11.24       | Actual HB: 11.30\n",
      "Predicted HB: 11.16       | Actual HB: 10.70\n",
      "Predicted HB: 11.94       | Actual HB: 12.20\n",
      "Predicted HB: 11.49       | Actual HB: 12.30\n",
      "Predicted HB: 11.82       | Actual HB: 12.80\n"
     ]
    }
   ],
   "source": [
    "for i in range(1,10):\n",
    "    paths = f\"/Users/maheshsaravanan/Documents/HemoScan/Dataset/{i:04d}\"\n",
    "    inference(model = model_obj, path = paths, mean = dataset.hb_mean, std = dataset.hb_std)"
   ]
  }
 ],
 "metadata": {
  "kernelspec": {
   "display_name": "Hemoscan",
   "language": "python",
   "name": "python3"
  },
  "language_info": {
   "codemirror_mode": {
    "name": "ipython",
    "version": 3
   },
   "file_extension": ".py",
   "mimetype": "text/x-python",
   "name": "python",
   "nbconvert_exporter": "python",
   "pygments_lexer": "ipython3",
   "version": "3.10.16"
  }
 },
 "nbformat": 4,
 "nbformat_minor": 5
}
