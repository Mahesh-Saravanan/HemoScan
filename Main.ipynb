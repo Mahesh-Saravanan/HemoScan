{
 "cells": [
  {
   "cell_type": "markdown",
   "id": "127d9ce9",
   "metadata": {},
   "source": [
    "## Dependencies"
   ]
  },
  {
   "cell_type": "code",
   "execution_count": 1,
   "id": "8383f3e5",
   "metadata": {},
   "outputs": [],
   "source": [
    "import os\n",
    "import json\n",
    "from PIL import Image\n",
    "import matplotlib.pyplot as plt\n",
    "import numpy as np\n",
    "\n",
    "\n",
    "import torch\n",
    "from torch.utils.data import DataLoader,random_split\n",
    "from torchvision import transforms\n",
    "\n",
    "\n",
    "import importlib\n",
    "import dataloader\n",
    "import config\n",
    "import model\n",
    "import train\n",
    "\n",
    "\n",
    "importlib.reload(dataloader)\n",
    "importlib.reload(config)\n",
    "importlib.reload(model)\n",
    "importlib.reload(train)\n",
    "\n",
    "from train import train,validate,inference\n",
    "from dataloader import create_dataloaders\n",
    "from config import Config\n",
    "from model import ModelV1,initialize_weights\n",
    "\n",
    "\n",
    "config = Config()"
   ]
  },
  {
   "cell_type": "markdown",
   "id": "41924412",
   "metadata": {},
   "source": [
    "## Prepare Dataset"
   ]
  },
  {
   "cell_type": "code",
   "execution_count": 2,
   "id": "3d214984",
   "metadata": {},
   "outputs": [],
   "source": [
    "train_loader, val_loader, hb_mean, hb_std = create_dataloaders(\n",
    "    data_dir=config.data_dir,\n",
    "    batch_size=config.batch_size,\n",
    "    test_split=config.test_split,\n",
    ")"
   ]
  },
  {
   "cell_type": "markdown",
   "id": "64f79151",
   "metadata": {},
   "source": [
    "## Create Model"
   ]
  },
  {
   "cell_type": "code",
   "execution_count": 3,
   "id": "34b5235b",
   "metadata": {},
   "outputs": [],
   "source": [
    "model_obj = ModelV1(freeze_backbone=True, unfreeze_from_layer='layer4')\n",
    "# if config.load_model:\n",
    "#     model_obj.load_state_dict(torch.load(config.model_path))\n",
    "# else:\n",
    "#     initialize_weights(model_obj)"
   ]
  },
  {
   "cell_type": "markdown",
   "id": "273108f4",
   "metadata": {},
   "source": [
    "## Train"
   ]
  },
  {
   "cell_type": "code",
   "execution_count": 5,
   "id": "87d402bc",
   "metadata": {},
   "outputs": [
    {
     "name": "stdout",
     "output_type": "stream",
     "text": [
      "Training on Device: mps\n",
      "\n",
      "[Validation] Batch [23/23] - Batch Loss: 0.66137303  ------> Epoch [1/20] Completed. Avg Loss: 0.9874   ------> Validation Loss: 1.2052, R2: -0.1015, MAPE: 151.5483%\n",
      "[Validation] Batch [23/23] - Batch Loss: 0.21993788  ------> Epoch [2/20] Completed. Avg Loss: 0.9548   ------> Validation Loss: 1.0337, R2: 0.0553, MAPE: 127.1283%\n",
      "[Validation] Batch [23/23] - Batch Loss: 0.19671712  ------> Epoch [3/20] Completed. Avg Loss: 0.9286   ------> Validation Loss: 1.0008, R2: 0.0854, MAPE: 124.9063%\n",
      "[Validation] Batch [23/23] - Batch Loss: 0.39188112  ------> Epoch [4/20] Completed. Avg Loss: 0.8783   ------> Validation Loss: 1.0708, R2: 0.0214, MAPE: 138.5790%\n",
      "[Validation] Batch [23/23] - Batch Loss: 0.15390042  ------> Epoch [5/20] Completed. Avg Loss: 0.8717   ------> Validation Loss: 1.0284, R2: 0.0601, MAPE: 131.2871%\n",
      "[Validation] Batch [23/23] - Batch Loss: 0.23995470  ------> Epoch [6/20] Completed. Avg Loss: 0.7981   ------> Validation Loss: 1.0035, R2: 0.0829, MAPE: 140.2763%\n",
      "[Validation] Batch [23/23] - Batch Loss: 0.40596082  ------> Epoch [7/20] Completed. Avg Loss: 0.7676   ------> Validation Loss: 1.0398, R2: 0.0497, MAPE: 121.6490%\n",
      "[Validation] Batch [23/23] - Batch Loss: 0.68348496  ------> Epoch [8/20] Completed. Avg Loss: 0.7312   ------> Validation Loss: 1.1280, R2: -0.0309, MAPE: 131.2788%\n",
      "[Validation] Batch [23/23] - Batch Loss: 0.57664391  ------> Epoch [9/20] Completed. Avg Loss: 0.6722   ------> Validation Loss: 1.1285, R2: -0.0313, MAPE: 167.3461%\n",
      "[Validation] Batch [23/23] - Batch Loss: 0.5356.2026  ------> Epoch [10/20] Completed. Avg Loss: 0.6578   ------> Validation Loss: 1.1072, R2: -0.0119, MAPE: 163.5136%\n",
      "[Validation] Batch [23/23] - Batch Loss: 0.2038.2269  ------> Epoch [11/20] Completed. Avg Loss: 0.6007   ------> Validation Loss: 0.9797, R2: 0.1046, MAPE: 153.2393%\n",
      "[Validation] Batch [23/23] - Batch Loss: 0.7507.0722  ------> Epoch [12/20] Completed. Avg Loss: 0.5480   ------> Validation Loss: 1.1246, R2: -0.0278, MAPE: 159.7147%\n",
      "[Validation] Batch [23/23] - Batch Loss: 0.2839.6274  ------> Epoch [13/20] Completed. Avg Loss: 0.5532   ------> Validation Loss: 1.0014, R2: 0.0848, MAPE: 163.9182%\n",
      "[Validation] Batch [23/23] - Batch Loss: 0.3915.2532  ------> Epoch [14/20] Completed. Avg Loss: 0.5103   ------> Validation Loss: 1.0987, R2: -0.0042, MAPE: 170.3366%\n",
      "[Validation] Batch [23/23] - Batch Loss: 0.5103.2774  ------> Epoch [15/20] Completed. Avg Loss: 0.4265   ------> Validation Loss: 1.1940, R2: -0.0912, MAPE: 166.6964%\n",
      "[Validation] Batch [23/23] - Batch Loss: 0.6330.9125  ------> Epoch [16/20] Completed. Avg Loss: 0.5009   ------> Validation Loss: 1.1341, R2: -0.0365, MAPE: 159.5759%\n",
      "[Validation] Batch [23/23] - Batch Loss: 0.5059.8991  ------> Epoch [17/20] Completed. Avg Loss: 0.4923   ------> Validation Loss: 1.2294, R2: -0.1236, MAPE: 209.8781%\n",
      "[Validation] Batch [23/23] - Batch Loss: 0.3191.3787  ------> Epoch [18/20] Completed. Avg Loss: 0.3970   ------> Validation Loss: 1.0442, R2: 0.0457, MAPE: 143.7389%\n",
      "[Validation] Batch [23/23] - Batch Loss: 0.3514.1707  ------> Epoch [19/20] Completed. Avg Loss: 0.4614   ------> Validation Loss: 1.0598, R2: 0.0314, MAPE: 128.9379%\n",
      "[Validation] Batch [23/23] - Batch Loss: 0.3471.0228  ------> Epoch [20/20] Completed. Avg Loss: 0.4505   ------> Validation Loss: 0.9924, R2: 0.0930, MAPE: 158.5107%\n"
     ]
    }
   ],
   "source": [
    "train(model = model_obj,dataloader = train_loader,val_loader = val_loader, config = config)"
   ]
  },
  {
   "cell_type": "markdown",
   "id": "3f1e228c",
   "metadata": {},
   "source": [
    "## Validate Model"
   ]
  },
  {
   "cell_type": "code",
   "execution_count": 7,
   "id": "9402f4ff",
   "metadata": {},
   "outputs": [
    {
     "name": "stdout",
     "output_type": "stream",
     "text": [
      "[Validation] Batch [208/208] - Batch Loss: 0.0693\n",
      "[Validation] Completed. Avg Loss: 0.2804\n",
      "\n",
      "[Validation Metrics]\n",
      "MSE: 0.2804\n",
      "RMSE: 0.5296\n",
      "MAE: 0.3905\n",
      "R2: 0.7151\n",
      "MAPE (%): 127.6786\n"
     ]
    }
   ],
   "source": [
    "_ = validate(model = model_obj, dataloader = train_loader, config = Config())"
   ]
  },
  {
   "cell_type": "markdown",
   "id": "4a7ca781",
   "metadata": {},
   "source": [
    "## inference"
   ]
  },
  {
   "cell_type": "code",
   "execution_count": 8,
   "id": "13d51827",
   "metadata": {},
   "outputs": [
    {
     "name": "stdout",
     "output_type": "stream",
     "text": [
      "Predicted HB: 12.12       | Actual HB: 13.20\n",
      "Predicted HB: 12.09       | Actual HB: 13.00\n",
      "Predicted HB: 12.60       | Actual HB: 13.20\n",
      "Predicted HB: 11.67       | Actual HB: 11.60\n",
      "Predicted HB: 11.42       | Actual HB: 11.30\n",
      "Predicted HB: 10.51       | Actual HB: 10.70\n",
      "Predicted HB: 11.70       | Actual HB: 12.20\n",
      "Predicted HB: 11.67       | Actual HB: 12.30\n",
      "Predicted HB: 11.59       | Actual HB: 12.80\n"
     ]
    }
   ],
   "source": [
    "for i in range(1,10):\n",
    "    paths = f\"/Users/maheshsaravanan/Documents/HemoScan/Dataset/{i:04d}\"\n",
    "    inference(model = model_obj, path = paths, mean = hb_mean, std = hb_std)"
   ]
  },
  {
   "cell_type": "code",
   "execution_count": 4,
   "id": "f14edd04",
   "metadata": {},
   "outputs": [
    {
     "name": "stdout",
     "output_type": "stream",
     "text": [
      "Module                                             Trainable      Params\n",
      "--------------------------------------------------------------------------------\n",
      "resnet.conv1.weight                                False           9,408\n",
      "resnet.bn1.weight                                  False              64\n",
      "resnet.bn1.bias                                    False              64\n",
      "resnet.layer1.0.conv1.weight                       False          36,864\n",
      "resnet.layer1.0.bn1.weight                         False              64\n",
      "resnet.layer1.0.bn1.bias                           False              64\n",
      "resnet.layer1.0.conv2.weight                       False          36,864\n",
      "resnet.layer1.0.bn2.weight                         False              64\n",
      "resnet.layer1.0.bn2.bias                           False              64\n",
      "resnet.layer1.1.conv1.weight                       False          36,864\n",
      "resnet.layer1.1.bn1.weight                         False              64\n",
      "resnet.layer1.1.bn1.bias                           False              64\n",
      "resnet.layer1.1.conv2.weight                       False          36,864\n",
      "resnet.layer1.1.bn2.weight                         False              64\n",
      "resnet.layer1.1.bn2.bias                           False              64\n",
      "resnet.layer2.0.conv1.weight                       False          73,728\n",
      "resnet.layer2.0.bn1.weight                         False             128\n",
      "resnet.layer2.0.bn1.bias                           False             128\n",
      "resnet.layer2.0.conv2.weight                       False         147,456\n",
      "resnet.layer2.0.bn2.weight                         False             128\n",
      "resnet.layer2.0.bn2.bias                           False             128\n",
      "resnet.layer2.0.downsample.0.weight                False           8,192\n",
      "resnet.layer2.0.downsample.1.weight                False             128\n",
      "resnet.layer2.0.downsample.1.bias                  False             128\n",
      "resnet.layer2.1.conv1.weight                       False         147,456\n",
      "resnet.layer2.1.bn1.weight                         False             128\n",
      "resnet.layer2.1.bn1.bias                           False             128\n",
      "resnet.layer2.1.conv2.weight                       False         147,456\n",
      "resnet.layer2.1.bn2.weight                         False             128\n",
      "resnet.layer2.1.bn2.bias                           False             128\n",
      "resnet.layer3.0.conv1.weight                       False         294,912\n",
      "resnet.layer3.0.bn1.weight                         False             256\n",
      "resnet.layer3.0.bn1.bias                           False             256\n",
      "resnet.layer3.0.conv2.weight                       False         589,824\n",
      "resnet.layer3.0.bn2.weight                         False             256\n",
      "resnet.layer3.0.bn2.bias                           False             256\n",
      "resnet.layer3.0.downsample.0.weight                False          32,768\n",
      "resnet.layer3.0.downsample.1.weight                False             256\n",
      "resnet.layer3.0.downsample.1.bias                  False             256\n",
      "resnet.layer3.1.conv1.weight                       False         589,824\n",
      "resnet.layer3.1.bn1.weight                         False             256\n",
      "resnet.layer3.1.bn1.bias                           False             256\n",
      "resnet.layer3.1.conv2.weight                       False         589,824\n",
      "resnet.layer3.1.bn2.weight                         False             256\n",
      "resnet.layer3.1.bn2.bias                           False             256\n",
      "resnet.layer4.0.conv1.weight                       True        1,179,648\n",
      "resnet.layer4.0.bn1.weight                         True              512\n",
      "resnet.layer4.0.bn1.bias                           True              512\n",
      "resnet.layer4.0.conv2.weight                       True        2,359,296\n",
      "resnet.layer4.0.bn2.weight                         True              512\n",
      "resnet.layer4.0.bn2.bias                           True              512\n",
      "resnet.layer4.0.downsample.0.weight                True          131,072\n",
      "resnet.layer4.0.downsample.1.weight                True              512\n",
      "resnet.layer4.0.downsample.1.bias                  True              512\n",
      "resnet.layer4.1.conv1.weight                       True        2,359,296\n",
      "resnet.layer4.1.bn1.weight                         True              512\n",
      "resnet.layer4.1.bn1.bias                           True              512\n",
      "resnet.layer4.1.conv2.weight                       True        2,359,296\n",
      "resnet.layer4.1.bn2.weight                         True              512\n",
      "resnet.layer4.1.bn2.bias                           True              512\n",
      "project.weight                                     True          131,072\n",
      "project.bias                                       True              256\n",
      "cross_attention1.cross_attention.in_proj_weight    True          196,608\n",
      "cross_attention1.cross_attention.in_proj_bias      True              768\n",
      "cross_attention1.cross_attention.out_proj.weight   True           65,536\n",
      "cross_attention1.cross_attention.out_proj.bias     True              256\n",
      "cross_attention1.norm1.weight                      True              256\n",
      "cross_attention1.norm1.bias                        True              256\n",
      "cross_attention1.feedforward.0.weight              True          131,072\n",
      "cross_attention1.feedforward.0.bias                True              512\n",
      "cross_attention1.feedforward.3.weight              True          131,072\n",
      "cross_attention1.feedforward.3.bias                True              256\n",
      "cross_attention1.norm2.weight                      True              256\n",
      "cross_attention1.norm2.bias                        True              256\n",
      "cross_attention2.cross_attention.in_proj_weight    True          196,608\n",
      "cross_attention2.cross_attention.in_proj_bias      True              768\n",
      "cross_attention2.cross_attention.out_proj.weight   True           65,536\n",
      "cross_attention2.cross_attention.out_proj.bias     True              256\n",
      "cross_attention2.norm1.weight                      True              256\n",
      "cross_attention2.norm1.bias                        True              256\n",
      "cross_attention2.feedforward.0.weight              True          131,072\n",
      "cross_attention2.feedforward.0.bias                True              512\n",
      "cross_attention2.feedforward.3.weight              True          131,072\n",
      "cross_attention2.feedforward.3.bias                True              256\n",
      "cross_attention2.norm2.weight                      True              256\n",
      "cross_attention2.norm2.bias                        True              256\n",
      "fc.0.weight                                        True           65,536\n",
      "fc.0.bias                                          True              128\n",
      "fc.3.weight                                        True              128\n",
      "fc.3.bias                                          True                1\n",
      "--------------------------------------------------------------------------------\n",
      "Total                                              -          12,427,841\n",
      "Trainable                                          -          9,645,057\n"
     ]
    }
   ],
   "source": [
    "def print_module_params(model):\n",
    "    print(f\"{'Module':<50} {'Trainable':<10} {'Params':>10}\")\n",
    "    print(\"-\" * 80)\n",
    "    total_params = 0\n",
    "    trainable_params = 0\n",
    "    \n",
    "    for name, param in model.named_parameters():\n",
    "        param_count = param.numel()\n",
    "        total_params += param_count\n",
    "        if param.requires_grad:\n",
    "            trainable_params += param_count\n",
    "        print(f\"{name:<50} {str(param.requires_grad):<10} {param_count:>10,}\")\n",
    "\n",
    "    print(\"-\" * 80)\n",
    "    print(f\"{'Total':<50} {'-':<10} {total_params:,}\")\n",
    "    print(f\"{'Trainable':<50} {'-':<10} {trainable_params:,}\")\n",
    "print_module_params(model_obj)"
   ]
  },
  {
   "cell_type": "code",
   "execution_count": null,
   "id": "1faf1911",
   "metadata": {},
   "outputs": [],
   "source": []
  }
 ],
 "metadata": {
  "kernelspec": {
   "display_name": "Hemoscan",
   "language": "python",
   "name": "python3"
  },
  "language_info": {
   "codemirror_mode": {
    "name": "ipython",
    "version": 3
   },
   "file_extension": ".py",
   "mimetype": "text/x-python",
   "name": "python",
   "nbconvert_exporter": "python",
   "pygments_lexer": "ipython3",
   "version": "3.10.16"
  }
 },
 "nbformat": 4,
 "nbformat_minor": 5
}
