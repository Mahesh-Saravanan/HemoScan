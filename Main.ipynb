{
 "cells": [
  {
   "cell_type": "markdown",
   "id": "127d9ce9",
   "metadata": {},
   "source": [
    "## Dependencies"
   ]
  },
  {
   "cell_type": "code",
   "execution_count": 24,
   "id": "8383f3e5",
   "metadata": {},
   "outputs": [],
   "source": [
    "import os\n",
    "import json\n",
    "from PIL import Image\n",
    "import matplotlib.pyplot as plt\n",
    "import numpy as np\n",
    "\n",
    "import torch\n",
    "from torch.utils.data import DataLoader,random_split\n",
    "from torchvision import transforms\n",
    "\n",
    "\n",
    "import importlib\n",
    "import dataloader\n",
    "import config\n",
    "import model\n",
    "import train\n",
    "import utils\n",
    "import inference\n",
    "\n",
    "\n",
    "importlib.reload(dataloader)\n",
    "importlib.reload(config)\n",
    "importlib.reload(model)\n",
    "importlib.reload(train)\n",
    "importlib.reload(utils)\n",
    "\n",
    "from train import train,validate,inference1\n",
    "from dataloader import create_dataloaders\n",
    "from config import Config\n",
    "from model import ModelV1,initialize_weights\n",
    "from utils import get_metrics\n",
    "from inference import Inference\n",
    "\n",
    "config = Config()"
   ]
  },
  {
   "cell_type": "markdown",
   "id": "41924412",
   "metadata": {},
   "source": [
    "## Prepare Dataset"
   ]
  },
  {
   "cell_type": "code",
   "execution_count": 25,
   "id": "3d214984",
   "metadata": {},
   "outputs": [],
   "source": [
    "train_loader, val_loader, hb_mean, hb_std = create_dataloaders(\n",
    "    data_dir=config.data_dir,\n",
    "    batch_size=config.batch_size,\n",
    "    test_split=config.test_split,\n",
    ")\n"
   ]
  },
  {
   "cell_type": "markdown",
   "id": "64f79151",
   "metadata": {},
   "source": [
    "## Create Model"
   ]
  },
  {
   "cell_type": "code",
   "execution_count": 26,
   "id": "34b5235b",
   "metadata": {},
   "outputs": [],
   "source": [
    "model_obj = ModelV1(freeze_backbone=True, unfreeze_from_layer='layer4')\n",
    "if config.load_model:\n",
    "    model_obj.load_state_dict(torch.load(config.model_load_path))\n",
    "# else:\n",
    "#     initialize_weights(model_obj)"
   ]
  },
  {
   "cell_type": "markdown",
   "id": "273108f4",
   "metadata": {},
   "source": [
    "## Train"
   ]
  },
  {
   "cell_type": "code",
   "execution_count": 27,
   "id": "87d402bc",
   "metadata": {},
   "outputs": [
    {
     "name": "stdout",
     "output_type": "stream",
     "text": [
      "Training on Device: mps\n",
      "\n",
      "[Validation] Batch [46/46] - Batch Loss: 0.40145071  ------> Epoch [1/10] Completed. Avg Loss: 0.9926   ------> Validation Loss: 1.1357, R2: 0.0071, MAPE: 118.1310%\n",
      "[Validation] Batch [46/46] - Batch Loss: 0.49028309  ------> Epoch [2/10] Completed. Avg Loss: 0.9423   ------> Validation Loss: 1.1266, R2: 0.0151, MAPE: 127.4614%\n",
      "[Validation] Batch [46/46] - Batch Loss: 0.35210563  ------> Epoch [3/10] Completed. Avg Loss: 0.9076   ------> Validation Loss: 1.0624, R2: 0.0712, MAPE: 125.1238%\n",
      "[Validation] Batch [46/46] - Batch Loss: 0.62195475  ------> Epoch [4/10] Completed. Avg Loss: 0.9220   ------> Validation Loss: 1.1203, R2: 0.0207, MAPE: 146.9440%\n",
      "[Validation] Batch [46/46] - Batch Loss: 0.80417121  ------> Epoch [5/10] Completed. Avg Loss: 0.8857   ------> Validation Loss: 1.1654, R2: -0.0188, MAPE: 148.7030%\n",
      "[Validation] Batch [46/46] - Batch Loss: 0.43230948  ------> Epoch [6/10] Completed. Avg Loss: 0.8385   ------> Validation Loss: 1.0205, R2: 0.1079, MAPE: 133.4363%\n",
      "[Validation] Batch [46/46] - Batch Loss: 0.70823350  ------> Epoch [7/10] Completed. Avg Loss: 0.8174   ------> Validation Loss: 1.0672, R2: 0.0671, MAPE: 154.1958%\n",
      "[Validation] Batch [46/46] - Batch Loss: 0.29941563  ------> Epoch [8/10] Completed. Avg Loss: 0.8387   ------> Validation Loss: 1.0012, R2: 0.1248, MAPE: 129.2326%\n",
      "[Validation] Batch [46/46] - Batch Loss: 0.58943431  ------> Epoch [9/10] Completed. Avg Loss: 0.7092   ------> Validation Loss: 1.0763, R2: 0.0591, MAPE: 154.1059%\n",
      "[Validation] Batch [46/46] - Batch Loss: 0.6076.3480  ------> Epoch [10/10] Completed. Avg Loss: 0.7161   ------> Validation Loss: 1.0648, R2: 0.0692, MAPE: 147.6551%\n"
     ]
    }
   ],
   "source": [
    "train(model = model_obj,dataloader = train_loader,val_loader = val_loader, config = config)"
   ]
  },
  {
   "cell_type": "markdown",
   "id": "3f1e228c",
   "metadata": {},
   "source": [
    "## Validate Model"
   ]
  },
  {
   "cell_type": "code",
   "execution_count": 28,
   "id": "9402f4ff",
   "metadata": {},
   "outputs": [
    {
     "name": "stdout",
     "output_type": "stream",
     "text": [
      "[Validation] Batch [46/46] - Batch Loss: 0.6076\n",
      "[Validation] Completed. Avg Loss: 1.0648\n",
      "\n",
      "[Validation Metrics]\n",
      "MSE: 1.0648\n",
      "RMSE: 1.0319\n",
      "MAE: 0.7566\n",
      "R2: 0.0692\n",
      "MAPE (%): 147.6551\n"
     ]
    }
   ],
   "source": [
    "data2validate = val_loader if val_loader is not None else train_loader\n",
    "_ = validate(model = model_obj, dataloader = data2validate, config = Config())"
   ]
  },
  {
   "cell_type": "markdown",
   "id": "4a7ca781",
   "metadata": {},
   "source": [
    "## Inference"
   ]
  },
  {
   "cell_type": "code",
   "execution_count": 29,
   "id": "13d51827",
   "metadata": {},
   "outputs": [
    {
     "data": {
      "image/png": "[encoded data removed]",
      "text/plain": [
       "<Figure size 640x480 with 2 Axes>"
      ]
     },
     "metadata": {},
     "output_type": "display_data"
    },
    {
     "name": "stdout",
     "output_type": "stream",
     "text": [
      "Accuracy: 62.256%\n",
      "Precision: 0.682\n",
      "Sensitivity (Recall): 0.158\n",
      "Specificity: 0.948\n",
      "F1 Score: 0.256\n",
      "MAE: 1.540 g/dL\n"
     ]
    }
   ],
   "source": [
    "results = []\n",
    "for i in range(1,462):\n",
    "    paths = f\"/Users/maheshsaravanan/Documents/HemoScan/Dataset/{i:04d}\"\n",
    "    out = inference1(model = model_obj, path = paths,transform = data2validate.dataset.dataset.transform, mean = hb_mean, std = hb_std,Print = False)\n",
    "    if False:#np.abs(out[0][0]-out[0][1]) > 0.450:\n",
    "       continue\n",
    "    else:\n",
    "        results.append((out))\n",
    "results = np.array(results).reshape(len(results),2)\n",
    "get_metrics(results, threshold = 12.0)"
   ]
  },
  {
   "cell_type": "markdown",
   "id": "cfd4f7c8",
   "metadata": {},
   "source": [
    "## Save Model"
   ]
  },
  {
   "cell_type": "code",
   "execution_count": 30,
   "id": "095be725",
   "metadata": {},
   "outputs": [],
   "source": [
    "if config.save_best_model: torch.save(model_obj.state_dict(), os.path.join(config.model_save_path,'model_weights_2505v1.pth'))"
   ]
  },
  {
   "cell_type": "markdown",
   "id": "0eb7d973",
   "metadata": {},
   "source": [
    "## Predict"
   ]
  },
  {
   "cell_type": "code",
   "execution_count": 34,
   "id": "bf5a84ab",
   "metadata": {},
   "outputs": [
    {
     "name": "stdout",
     "output_type": "stream",
     "text": [
      "Model and its weight loaded and pushed to device:mps\n"
     ]
    }
   ],
   "source": [
    "infer = Inference()"
   ]
  },
  {
   "cell_type": "code",
   "execution_count": 35,
   "id": "dd698a75",
   "metadata": {},
   "outputs": [],
   "source": [
    "path_pf = '/Users/maheshsaravanan/Documents/HemoScan/Dataset/Ideal/PF.jpg'\n",
    "path_pb = '/Users/maheshsaravanan/Documents/HemoScan/Dataset/Ideal/PB.jpg'\n",
    "\n",
    "img_pf = Image.open(path_pf).convert(\"RGB\")\n",
    "img_pb = Image.open(path_pb).convert(\"RGB\")\n"
   ]
  },
  {
   "cell_type": "code",
   "execution_count": 36,
   "id": "37bfd071",
   "metadata": {},
   "outputs": [
    {
     "data": {
      "text/plain": [
       "12.74"
      ]
     },
     "execution_count": 36,
     "metadata": {},
     "output_type": "execute_result"
    }
   ],
   "source": [
    "infer.predict(img_pf,img_pb)"
   ]
  }
 ],
 "metadata": {
  "kernelspec": {
   "display_name": "Hemoscan",
   "language": "python",
   "name": "python3"
  },
  "language_info": {
   "codemirror_mode": {
    "name": "ipython",
    "version": 3
   },
   "file_extension": ".py",
   "mimetype": "text/x-python",
   "name": "python",
   "nbconvert_exporter": "python",
   "pygments_lexer": "ipython3",
   "version": "3.10.16"
  }
 },
 "nbformat": 4,
 "nbformat_minor": 5
}
